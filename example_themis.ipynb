{
 "cells": [
  {
   "cell_type": "code",
   "execution_count": null,
   "id": "ec41c2f2-f494-4436-a053-abb47082c299",
   "metadata": {},
   "outputs": [],
   "source": [
    "# example fot themis"
   ]
  },
  {
   "cell_type": "code",
   "execution_count": 12,
   "id": "647ba4ac-49d7-4b8c-a60a-a312d1d9d098",
   "metadata": {},
   "outputs": [],
   "source": [
    "import json\n",
    "from utilis import get_test_data, get_saved_model_details, get_model\n",
    "from themis import themis"
   ]
  },
  {
   "cell_type": "code",
   "execution_count": 14,
   "id": "14776417-766b-4b49-ae95-458f2bf69068",
   "metadata": {},
   "outputs": [],
   "source": [
    "# load params\n",
    "\n",
    "with open('config.json', mode='r', encoding='utf-8') as f:\n",
    "    dicts = json.load(f)\n",
    "themis_params = dicts['themis']\n",
    "model_params = themis_params['model_params']\n",
    "data_params = themis_params['data_params']"
   ]
  },
  {
   "cell_type": "code",
   "execution_count": null,
   "id": "dbbbae44-17d8-4841-8c7b-e84db2c1db16",
   "metadata": {},
   "outputs": [],
   "source": [
    "#load data\n",
    "\n",
    "test_data = get_test_data(model_params,data_params)"
   ]
  },
  {
   "cell_type": "code",
   "execution_count": null,
   "id": "928bdc22-b0a3-4613-87e4-e4a6d4fafb6c",
   "metadata": {},
   "outputs": [],
   "source": [
    "# load model\n",
    "\n",
    "check_path ,train_features = get_saved_model_details(model_params, data_params)\n",
    "model = get_model(model_params,data_params)\n",
    "model_info = {\n",
    "    'test_model': model,\n",
    "    'train_features': train_features\n",
    "}"
   ]
  },
  {
   "cell_type": "code",
   "execution_count": 18,
   "id": "1da819ee-3af7-4b93-9f58-35efb6ed671b",
   "metadata": {},
   "outputs": [],
   "source": [
    "# set params for testing\n",
    "\n",
    "test_info = themis_params['test_info']\n",
    "test_info['test_data'] = test_data"
   ]
  },
  {
   "cell_type": "code",
   "execution_count": null,
   "id": "c510ec66-0a60-46b6-9314-0d50a0cd7d57",
   "metadata": {},
   "outputs": [],
   "source": [
    "# themis\n",
    "\n",
    "uf_score, time_themis = themis(model_info,test_info)"
   ]
  },
  {
   "cell_type": "code",
   "execution_count": 20,
   "id": "550b3774-d139-46f0-a0af-cf1815f405a9",
   "metadata": {},
   "outputs": [
    {
     "name": "stdout",
     "output_type": "stream",
     "text": [
      "the unfairness score: 0.4819444444444445\n",
      "the time consumption: 23.630190134048462\n"
     ]
    }
   ],
   "source": [
    "# print result\n",
    "\n",
    "print('the unfairness score: {}'.format(uf_score))\n",
    "print('the time consumption: {}'.format(time_themis))"
   ]
  }
 ],
 "metadata": {
  "kernelspec": {
   "display_name": "Python 3 (ipykernel)",
   "language": "python",
   "name": "python3"
  },
  "language_info": {
   "codemirror_mode": {
    "name": "ipython",
    "version": 3
   },
   "file_extension": ".py",
   "mimetype": "text/x-python",
   "name": "python",
   "nbconvert_exporter": "python",
   "pygments_lexer": "ipython3",
   "version": "3.8.1"
  }
 },
 "nbformat": 4,
 "nbformat_minor": 5
}
